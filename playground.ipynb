{
 "cells": [
  {
   "cell_type": "code",
   "execution_count": 2,
   "metadata": {},
   "outputs": [],
   "source": [
    "# import time\n",
    "# import random\n",
    "# import numpy as np\n",
    "from selenium import webdriver\n",
    "from selenium.webdriver.common.by import By\n",
    "from selenium.webdriver.support.ui import WebDriverWait\n",
    "from selenium.webdriver.support import expected_conditions as EC\n",
    "from selenium.common.exceptions import TimeoutException\n",
    "from selenium.webdriver.common.action_chains import ActionChains\n",
    "from PIL import Image\n",
    "# import pandas as pd"
   ]
  },
  {
   "cell_type": "code",
   "execution_count": 19,
   "metadata": {},
   "outputs": [],
   "source": [
    "option = webdriver.ChromeOptions()\n",
    "option.add_argument(\"-incognito\")\n",
    "option.add_argument(\"window-size=1400,1000\")\n",
    "# option.add_experimental_option(\"excludeSwitches\", ['enable-automation']);\n",
    "# option.add_argument(\"--headless\")\n",
    "# option.add_argument(\"disable-gpu\");"
   ]
  },
  {
   "cell_type": "code",
   "execution_count": 20,
   "metadata": {},
   "outputs": [],
   "source": [
    "browser = webdriver.Chrome(options=option)\n",
    "browser.get(\"https://colonist.io\")"
   ]
  },
  {
   "cell_type": "code",
   "execution_count": 21,
   "metadata": {},
   "outputs": [],
   "source": [
    "button_play_vs_bots = browser.find_element(By.XPATH, '//*[@id=\"landingpage_cta_playvsbots\"]')\n",
    "button_play_vs_bots.click()"
   ]
  },
  {
   "cell_type": "code",
   "execution_count": 23,
   "metadata": {},
   "outputs": [],
   "source": [
    "# Take a screenshot of canvas\n",
    "game_canvas = browser.find_element(By.XPATH, '/html/body/canvas')\n",
    "canvas_ss = game_canvas.screenshot_as_png\n",
    "with open('snap/ss.png', 'wb') as f:\n",
    "    f.write(canvas_ss)"
   ]
  },
  {
   "cell_type": "code",
   "execution_count": 20,
   "metadata": {},
   "outputs": [],
   "source": [
    "def parse_board():\n",
    "    f = \"snap/ss.png\"\n",
    "    l = 146\n",
    "    t = 214\n",
    "    r = 578\n",
    "    b = 274\n",
    "    im = Image.open(r\"snap/ss.png\")\n",
    "    im1 = im.crop((l,t,r,b))\n",
    "    im1.show()\n",
    "\n",
    "parse_board()"
   ]
  }
 ],
 "metadata": {
  "kernelspec": {
   "display_name": "Python 3.10.4 ('.venv': venv)",
   "language": "python",
   "name": "python3"
  },
  "language_info": {
   "codemirror_mode": {
    "name": "ipython",
    "version": 3
   },
   "file_extension": ".py",
   "mimetype": "text/x-python",
   "name": "python",
   "nbconvert_exporter": "python",
   "pygments_lexer": "ipython3",
   "version": "3.10.4"
  },
  "orig_nbformat": 4,
  "vscode": {
   "interpreter": {
    "hash": "0038a0cb7384535df53c725fad8e2e8f3290da9f071d39684f36b2f55c228d79"
   }
  }
 },
 "nbformat": 4,
 "nbformat_minor": 2
}
